{
 "cells": [
  {
   "cell_type": "markdown",
   "metadata": {
    "nbpresent": {
     "id": "1d234e3f-af8b-4757-83f3-241b04b7a511"
    }
   },
   "source": [
    "# Class Challenge: Image Classification of COVID-19 X-rays\n",
    "# Task 2 [Total points: 30]"
   ]
  },
  {
   "cell_type": "markdown",
   "metadata": {
    "nbpresent": {
     "id": "b07b9992-b592-4871-9f9a-3b0ae5fa8b5f"
    }
   },
   "source": [
    "## Setup\n",
    "\n",
    "* This assignment involves the following packages: 'matplotlib', 'numpy', and 'sklearn'. \n",
    "\n",
    "* If you are using conda, use the following commands to install the above packages:<br>\n",
    "```shell\n",
    "conda install matplotlib\n",
    "conda install numpy\n",
    "conda install -c anaconda scikit-learn\n",
    "```\n",
    "\n",
    "* If you are using pip, use use the following commands to install the above packages: <br> \n",
    "```shell\n",
    "pip install matplotlib\n",
    "pip install numpy\n",
    "pip install sklearn\n",
    "```"
   ]
  },
  {
   "cell_type": "markdown",
   "metadata": {
    "nbpresent": {
     "id": "5516f610-f00c-43c3-bf19-4cf7ab9c089f"
    }
   },
   "source": [
    "## Data\n",
    "\n",
    "Please download the data using the following link: [COVID-19](https://drive.google.com/file/d/1Y88tgqpQ1Pjko_7rntcPowOJs_QNOrJ-/view). \n",
    "\n",
    "* After downloading 'Covid_Data_GradientCrescent.zip', unzip the file and you should see the following data structure:\n",
    "\n",
    "\n",
    "|--all<br>\n",
    "|--------train<br>\n",
    "|--------test<br>\n",
    "|--two<br>\n",
    "|--------train<br>\n",
    "|--------test<br>\n",
    "\n",
    "\n",
    "* Put the 'all' folder, the 'two' folder and this python notebook in the **same directory** so that the following code can correctly locate the data.  \n",
    "\n"
   ]
  },
  {
   "cell_type": "markdown",
   "metadata": {
    "nbpresent": {
     "id": "66140980-2aa4-457f-b1df-74c10c234cc2"
    }
   },
   "source": [
    "## [20 points] Multi-class Classification"
   ]
  },
  {
   "cell_type": "code",
   "execution_count": 62,
   "metadata": {
    "nbpresent": {
     "id": "5e05f980-3d14-4367-b3d1-664249145b13"
    },
    "scrolled": true
   },
   "outputs": [
    {
     "data": {
      "text/plain": [
       "'2.6.0'"
      ]
     },
     "execution_count": 62,
     "metadata": {},
     "output_type": "execute_result"
    }
   ],
   "source": [
    "import os\n",
    "\n",
    "import tensorflow as tf\n",
    "import numpy as np\n",
    "import matplotlib.pyplot as plt\n",
    "from tensorflow.keras.preprocessing.image import ImageDataGenerator\n",
    "\n",
    "os.environ['OMP_NUM_THREADS'] = '1'\n",
    "os.environ['CUDA_VISIBLE_DEVICES'] = '-1'\n",
    "tf.__version__"
   ]
  },
  {
   "cell_type": "markdown",
   "metadata": {
    "nbpresent": {
     "id": "66140980-2aa4-457f-b1df-74c10c234cc2"
    }
   },
   "source": [
    "#### Load Image Data"
   ]
  },
  {
   "cell_type": "code",
   "execution_count": 63,
   "metadata": {
    "nbpresent": {
     "id": "58317664-8da3-4283-b3e5-35721687e7ab"
    }
   },
   "outputs": [],
   "source": [
    "DATA_LIST = os.listdir('all/train')\n",
    "DATASET_PATH  = 'all/train'\n",
    "TEST_DIR =  'all/test'\n",
    "IMAGE_SIZE    = (224, 224)\n",
    "NUM_CLASSES   = len(DATA_LIST)\n",
    "BATCH_SIZE    = 10  # try reducing batch size or freeze more layers if your GPU runs out of memory\n",
    "NUM_EPOCHS    = 100\n",
    "LEARNING_RATE = 0.0005 # start off with high rate first 0.001 and experiment with reducing it gradually "
   ]
  },
  {
   "cell_type": "markdown",
   "metadata": {
    "nbpresent": {
     "id": "66140980-2aa4-457f-b1df-74c10c234cc2"
    }
   },
   "source": [
    "#### Generate Training and Validation Batches"
   ]
  },
  {
   "cell_type": "code",
   "execution_count": 64,
   "metadata": {
    "nbpresent": {
     "id": "71760e29-2b08-4259-93f1-ebe68cd74a6d"
    }
   },
   "outputs": [
    {
     "name": "stdout",
     "output_type": "stream",
     "text": [
      "Found 216 images belonging to 4 classes.\n",
      "Found 54 images belonging to 4 classes.\n"
     ]
    }
   ],
   "source": [
    "train_datagen = ImageDataGenerator(rescale=1./255,rotation_range=50,featurewise_center = True,\n",
    "                                   featurewise_std_normalization = True,width_shift_range=0.2,\n",
    "                                   height_shift_range=0.2,shear_range=0.25,zoom_range=0.1,\n",
    "                                   zca_whitening = True,channel_shift_range = 20,\n",
    "                                   horizontal_flip = True,vertical_flip = True,\n",
    "                                   validation_split = 0.2,fill_mode='constant')\n",
    "\n",
    "\n",
    "train_batches = train_datagen.flow_from_directory(DATASET_PATH,target_size=IMAGE_SIZE,\n",
    "                                                  shuffle=True,batch_size=BATCH_SIZE,\n",
    "                                                  subset = \"training\",seed=42,\n",
    "                                                  class_mode=\"categorical\")\n",
    "\n",
    "valid_batches = train_datagen.flow_from_directory(DATASET_PATH,target_size=IMAGE_SIZE,\n",
    "                                                  shuffle=True,batch_size=BATCH_SIZE,\n",
    "                                                  subset = \"validation\",\n",
    "                                                  seed=42,class_mode=\"categorical\")"
   ]
  },
  {
   "cell_type": "markdown",
   "metadata": {
    "nbpresent": {
     "id": "66140980-2aa4-457f-b1df-74c10c234cc2"
    }
   },
   "source": [
    "#### [10 points] Build Model\n",
    "Hint: Starting from a pre-trained model typically helps performance on a new task, e.g. starting with weights obtained by training on ImageNet. "
   ]
  },
  {
   "cell_type": "code",
   "execution_count": 92,
   "metadata": {
    "nbpresent": {
     "id": "5c52eeb2-1092-4d45-9e16-02219c82cb5e"
    }
   },
   "outputs": [],
   "source": [
    "vgg16 = tf.keras.applications.VGG16(weights='imagenet', include_top=False, input_shape=(224,224,3))\n",
    "vgg16.trainable = False\n",
    "model = tf.keras.Sequential([\n",
    "    vgg16,\n",
    "    tf.keras.layers.Flatten(),\n",
    "    tf.keras.layers.Dense(128, activation='relu'),\n",
    "    tf.keras.layers.Dense(4, activation='softmax')\n",
    "])"
   ]
  },
  {
   "cell_type": "code",
   "execution_count": 93,
   "metadata": {
    "scrolled": false
   },
   "outputs": [
    {
     "name": "stdout",
     "output_type": "stream",
     "text": [
      "Model: \"sequential_18\"\n",
      "_________________________________________________________________\n",
      "Layer (type)                 Output Shape              Param #   \n",
      "=================================================================\n",
      "vgg16 (Functional)           (None, 7, 7, 512)         14714688  \n",
      "_________________________________________________________________\n",
      "flatten_17 (Flatten)         (None, 25088)             0         \n",
      "_________________________________________________________________\n",
      "dense_39 (Dense)             (None, 128)               3211392   \n",
      "_________________________________________________________________\n",
      "dense_40 (Dense)             (None, 4)                 516       \n",
      "=================================================================\n",
      "Total params: 17,926,596\n",
      "Trainable params: 3,211,908\n",
      "Non-trainable params: 14,714,688\n",
      "_________________________________________________________________\n"
     ]
    }
   ],
   "source": [
    "model.summary()"
   ]
  },
  {
   "cell_type": "code",
   "execution_count": 94,
   "metadata": {},
   "outputs": [],
   "source": [
    "model.compile(optimizer = 'adam', loss = 'categorical_crossentropy', metrics = ['categorical_accuracy'])"
   ]
  },
  {
   "cell_type": "markdown",
   "metadata": {
    "nbpresent": {
     "id": "66140980-2aa4-457f-b1df-74c10c234cc2"
    }
   },
   "source": [
    "#### [5 points] Train Model"
   ]
  },
  {
   "cell_type": "code",
   "execution_count": 95,
   "metadata": {
    "nbpresent": {
     "id": "cdb90d24-6a23-4969-8138-f37e7050062d"
    }
   },
   "outputs": [
    {
     "name": "stdout",
     "output_type": "stream",
     "text": [
      "22\n",
      "6\n",
      "Epoch 1/100\n",
      "21/21 [==============================] - 23s 1s/step - loss: 2.6881 - categorical_accuracy: 0.3252 - val_loss: 1.8198 - val_categorical_accuracy: 0.3200\n",
      "Epoch 2/100\n",
      "21/21 [==============================] - 18s 850ms/step - loss: 1.5739 - categorical_accuracy: 0.4563 - val_loss: 1.1744 - val_categorical_accuracy: 0.4000\n",
      "Epoch 3/100\n",
      "21/21 [==============================] - 19s 898ms/step - loss: 1.2263 - categorical_accuracy: 0.4903 - val_loss: 1.0389 - val_categorical_accuracy: 0.5000\n",
      "Epoch 4/100\n",
      "21/21 [==============================] - 20s 929ms/step - loss: 0.9773 - categorical_accuracy: 0.5728 - val_loss: 1.1407 - val_categorical_accuracy: 0.4800\n",
      "Epoch 5/100\n",
      "21/21 [==============================] - 19s 900ms/step - loss: 0.9824 - categorical_accuracy: 0.5825 - val_loss: 0.9396 - val_categorical_accuracy: 0.6400\n",
      "Epoch 6/100\n",
      "21/21 [==============================] - 20s 938ms/step - loss: 1.0138 - categorical_accuracy: 0.5340 - val_loss: 0.9927 - val_categorical_accuracy: 0.4600\n",
      "Epoch 7/100\n",
      "21/21 [==============================] - 20s 931ms/step - loss: 0.9329 - categorical_accuracy: 0.6019 - val_loss: 0.8057 - val_categorical_accuracy: 0.6600\n",
      "Epoch 8/100\n",
      "21/21 [==============================] - 20s 928ms/step - loss: 0.8385 - categorical_accuracy: 0.6214 - val_loss: 0.8612 - val_categorical_accuracy: 0.6400\n",
      "Epoch 9/100\n",
      "21/21 [==============================] - 20s 932ms/step - loss: 0.8755 - categorical_accuracy: 0.6262 - val_loss: 0.8698 - val_categorical_accuracy: 0.6000\n",
      "Epoch 10/100\n",
      "21/21 [==============================] - 19s 884ms/step - loss: 0.7791 - categorical_accuracy: 0.6942 - val_loss: 0.6236 - val_categorical_accuracy: 0.7600\n",
      "Epoch 11/100\n",
      "21/21 [==============================] - 17s 817ms/step - loss: 0.8397 - categorical_accuracy: 0.6505 - val_loss: 0.8018 - val_categorical_accuracy: 0.5600\n",
      "Epoch 12/100\n",
      "21/21 [==============================] - 17s 811ms/step - loss: 0.8107 - categorical_accuracy: 0.7233 - val_loss: 0.7414 - val_categorical_accuracy: 0.7000\n",
      "Epoch 13/100\n",
      "21/21 [==============================] - 19s 913ms/step - loss: 0.8137 - categorical_accuracy: 0.6505 - val_loss: 0.8439 - val_categorical_accuracy: 0.6800\n",
      "Epoch 14/100\n",
      "21/21 [==============================] - 24s 1s/step - loss: 0.7267 - categorical_accuracy: 0.6893 - val_loss: 0.7467 - val_categorical_accuracy: 0.7200\n",
      "Epoch 15/100\n",
      "21/21 [==============================] - 25s 1s/step - loss: 0.7343 - categorical_accuracy: 0.7048 - val_loss: 0.6390 - val_categorical_accuracy: 0.7600\n",
      "Epoch 16/100\n",
      "21/21 [==============================] - 25s 1s/step - loss: 0.6947 - categorical_accuracy: 0.6810 - val_loss: 0.7090 - val_categorical_accuracy: 0.6400\n",
      "Epoch 17/100\n",
      "21/21 [==============================] - 24s 1s/step - loss: 0.7650 - categorical_accuracy: 0.6893 - val_loss: 1.0007 - val_categorical_accuracy: 0.4600\n",
      "Epoch 18/100\n",
      "21/21 [==============================] - 24s 1s/step - loss: 0.7361 - categorical_accuracy: 0.6942 - val_loss: 0.7097 - val_categorical_accuracy: 0.6800\n",
      "Epoch 19/100\n",
      "21/21 [==============================] - 25s 1s/step - loss: 0.7274 - categorical_accuracy: 0.6262 - val_loss: 0.6402 - val_categorical_accuracy: 0.7000\n",
      "Epoch 20/100\n",
      "21/21 [==============================] - 25s 1s/step - loss: 0.6578 - categorical_accuracy: 0.7184 - val_loss: 0.6426 - val_categorical_accuracy: 0.6800\n",
      "Epoch 21/100\n",
      "21/21 [==============================] - 24s 1s/step - loss: 0.6602 - categorical_accuracy: 0.7136 - val_loss: 0.6313 - val_categorical_accuracy: 0.6600\n",
      "Epoch 22/100\n",
      "21/21 [==============================] - 25s 1s/step - loss: 0.7084 - categorical_accuracy: 0.6942 - val_loss: 0.7231 - val_categorical_accuracy: 0.6800\n",
      "Epoch 23/100\n",
      "21/21 [==============================] - 25s 1s/step - loss: 0.7280 - categorical_accuracy: 0.6650 - val_loss: 0.5805 - val_categorical_accuracy: 0.7800\n",
      "Epoch 24/100\n",
      "21/21 [==============================] - 25s 1s/step - loss: 0.6291 - categorical_accuracy: 0.7136 - val_loss: 0.7148 - val_categorical_accuracy: 0.6600\n",
      "Epoch 25/100\n",
      "21/21 [==============================] - 25s 1s/step - loss: 0.5609 - categorical_accuracy: 0.7427 - val_loss: 0.6110 - val_categorical_accuracy: 0.7200\n",
      "Epoch 26/100\n",
      "21/21 [==============================] - 23s 1s/step - loss: 0.6120 - categorical_accuracy: 0.7670 - val_loss: 0.6368 - val_categorical_accuracy: 0.6600\n",
      "Epoch 27/100\n",
      "21/21 [==============================] - 24s 1s/step - loss: 0.5849 - categorical_accuracy: 0.7718 - val_loss: 0.6929 - val_categorical_accuracy: 0.6400\n",
      "Epoch 28/100\n",
      "21/21 [==============================] - 24s 1s/step - loss: 0.6935 - categorical_accuracy: 0.6990 - val_loss: 0.6365 - val_categorical_accuracy: 0.6600\n",
      "Epoch 29/100\n",
      "21/21 [==============================] - 23s 1s/step - loss: 0.6088 - categorical_accuracy: 0.7524 - val_loss: 0.5879 - val_categorical_accuracy: 0.7600\n",
      "Epoch 30/100\n",
      "21/21 [==============================] - 24s 1s/step - loss: 0.5736 - categorical_accuracy: 0.7573 - val_loss: 0.6693 - val_categorical_accuracy: 0.6600\n",
      "Epoch 31/100\n",
      "21/21 [==============================] - 25s 1s/step - loss: 0.5443 - categorical_accuracy: 0.7524 - val_loss: 0.6758 - val_categorical_accuracy: 0.6800\n",
      "Epoch 32/100\n",
      "21/21 [==============================] - 24s 1s/step - loss: 0.5714 - categorical_accuracy: 0.7476 - val_loss: 0.6474 - val_categorical_accuracy: 0.7200\n",
      "Epoch 33/100\n",
      "21/21 [==============================] - 25s 1s/step - loss: 0.5709 - categorical_accuracy: 0.7670 - val_loss: 0.6107 - val_categorical_accuracy: 0.6800\n",
      "Epoch 34/100\n",
      "21/21 [==============================] - 24s 1s/step - loss: 0.6151 - categorical_accuracy: 0.7524 - val_loss: 0.6354 - val_categorical_accuracy: 0.6800\n",
      "Epoch 35/100\n",
      "21/21 [==============================] - 23s 1s/step - loss: 0.6364 - categorical_accuracy: 0.7476 - val_loss: 0.7685 - val_categorical_accuracy: 0.6000\n",
      "Epoch 36/100\n",
      "21/21 [==============================] - 25s 1s/step - loss: 0.5833 - categorical_accuracy: 0.7427 - val_loss: 0.6637 - val_categorical_accuracy: 0.7400\n",
      "Epoch 37/100\n",
      "21/21 [==============================] - 24s 1s/step - loss: 0.6382 - categorical_accuracy: 0.7087 - val_loss: 0.7432 - val_categorical_accuracy: 0.7000\n",
      "Epoch 38/100\n",
      "21/21 [==============================] - 26s 1s/step - loss: 0.6911 - categorical_accuracy: 0.7379 - val_loss: 0.7806 - val_categorical_accuracy: 0.6200\n",
      "Epoch 39/100\n",
      "21/21 [==============================] - 24s 1s/step - loss: 0.6543 - categorical_accuracy: 0.7136 - val_loss: 0.8069 - val_categorical_accuracy: 0.6400\n",
      "Epoch 40/100\n",
      "21/21 [==============================] - 24s 1s/step - loss: 0.5805 - categorical_accuracy: 0.7670 - val_loss: 0.6752 - val_categorical_accuracy: 0.7200\n",
      "Epoch 41/100\n",
      "21/21 [==============================] - 24s 1s/step - loss: 0.5852 - categorical_accuracy: 0.7524 - val_loss: 1.0011 - val_categorical_accuracy: 0.5200\n",
      "Epoch 42/100\n",
      "21/21 [==============================] - 24s 1s/step - loss: 0.5558 - categorical_accuracy: 0.7718 - val_loss: 0.7616 - val_categorical_accuracy: 0.6200\n",
      "Epoch 43/100\n",
      "21/21 [==============================] - 24s 1s/step - loss: 0.5717 - categorical_accuracy: 0.7767 - val_loss: 0.6635 - val_categorical_accuracy: 0.7000\n",
      "Epoch 44/100\n",
      "21/21 [==============================] - 24s 1s/step - loss: 0.6712 - categorical_accuracy: 0.6748 - val_loss: 0.6038 - val_categorical_accuracy: 0.6200\n",
      "Epoch 45/100\n",
      "21/21 [==============================] - 25s 1s/step - loss: 0.5719 - categorical_accuracy: 0.7427 - val_loss: 0.6167 - val_categorical_accuracy: 0.7400\n",
      "Epoch 46/100\n",
      "21/21 [==============================] - 24s 1s/step - loss: 0.5459 - categorical_accuracy: 0.7816 - val_loss: 0.8607 - val_categorical_accuracy: 0.5600\n",
      "Epoch 47/100\n",
      "21/21 [==============================] - 26s 1s/step - loss: 0.5587 - categorical_accuracy: 0.7427 - val_loss: 0.5975 - val_categorical_accuracy: 0.7000\n",
      "Epoch 48/100\n",
      "21/21 [==============================] - 25s 1s/step - loss: 0.5583 - categorical_accuracy: 0.7767 - val_loss: 0.6257 - val_categorical_accuracy: 0.6600\n",
      "Epoch 49/100\n",
      "21/21 [==============================] - 24s 1s/step - loss: 0.6199 - categorical_accuracy: 0.7573 - val_loss: 0.5041 - val_categorical_accuracy: 0.7000\n",
      "Epoch 50/100\n"
     ]
    },
    {
     "name": "stdout",
     "output_type": "stream",
     "text": [
      "21/21 [==============================] - 24s 1s/step - loss: 0.5462 - categorical_accuracy: 0.7330 - val_loss: 0.6141 - val_categorical_accuracy: 0.7200\n",
      "Epoch 51/100\n",
      "21/21 [==============================] - 24s 1s/step - loss: 0.5398 - categorical_accuracy: 0.7718 - val_loss: 0.9851 - val_categorical_accuracy: 0.5800\n",
      "Epoch 52/100\n",
      "21/21 [==============================] - 24s 1s/step - loss: 0.5796 - categorical_accuracy: 0.7330 - val_loss: 0.7194 - val_categorical_accuracy: 0.6200\n",
      "Epoch 53/100\n",
      "21/21 [==============================] - 24s 1s/step - loss: 0.5569 - categorical_accuracy: 0.7573 - val_loss: 0.7085 - val_categorical_accuracy: 0.7000\n",
      "Epoch 54/100\n",
      "21/21 [==============================] - 23s 1s/step - loss: 0.5608 - categorical_accuracy: 0.7573 - val_loss: 0.4951 - val_categorical_accuracy: 0.7600\n",
      "Epoch 55/100\n",
      "21/21 [==============================] - 24s 1s/step - loss: 0.5579 - categorical_accuracy: 0.7524 - val_loss: 0.5993 - val_categorical_accuracy: 0.7200\n",
      "Epoch 56/100\n",
      "21/21 [==============================] - 24s 1s/step - loss: 0.5685 - categorical_accuracy: 0.7670 - val_loss: 0.5680 - val_categorical_accuracy: 0.7200\n",
      "Epoch 57/100\n",
      "21/21 [==============================] - 23s 1s/step - loss: 0.5533 - categorical_accuracy: 0.7330 - val_loss: 0.8302 - val_categorical_accuracy: 0.6600\n",
      "Epoch 58/100\n",
      "21/21 [==============================] - 23s 1s/step - loss: 0.6652 - categorical_accuracy: 0.6942 - val_loss: 0.9578 - val_categorical_accuracy: 0.6200\n",
      "Epoch 59/100\n",
      "21/21 [==============================] - 24s 1s/step - loss: 0.6090 - categorical_accuracy: 0.7621 - val_loss: 0.7238 - val_categorical_accuracy: 0.6400\n",
      "Epoch 60/100\n",
      "21/21 [==============================] - 25s 1s/step - loss: 0.4905 - categorical_accuracy: 0.8095 - val_loss: 0.8023 - val_categorical_accuracy: 0.6400\n",
      "Epoch 61/100\n",
      "21/21 [==============================] - 26s 1s/step - loss: 0.6500 - categorical_accuracy: 0.6990 - val_loss: 0.6149 - val_categorical_accuracy: 0.6800\n",
      "Epoch 62/100\n",
      "21/21 [==============================] - 23s 1s/step - loss: 0.6288 - categorical_accuracy: 0.7233 - val_loss: 0.9072 - val_categorical_accuracy: 0.6000\n",
      "Epoch 63/100\n",
      "21/21 [==============================] - 23s 1s/step - loss: 0.5831 - categorical_accuracy: 0.7379 - val_loss: 0.6422 - val_categorical_accuracy: 0.6600\n",
      "Epoch 64/100\n",
      "21/21 [==============================] - 23s 1s/step - loss: 0.5633 - categorical_accuracy: 0.7767 - val_loss: 0.5164 - val_categorical_accuracy: 0.7600\n",
      "Epoch 65/100\n",
      "21/21 [==============================] - 24s 1s/step - loss: 0.5802 - categorical_accuracy: 0.7476 - val_loss: 0.7721 - val_categorical_accuracy: 0.6200\n",
      "Epoch 66/100\n",
      "21/21 [==============================] - 24s 1s/step - loss: 0.4999 - categorical_accuracy: 0.7913 - val_loss: 0.7003 - val_categorical_accuracy: 0.6400\n",
      "Epoch 67/100\n",
      "21/21 [==============================] - 24s 1s/step - loss: 0.5526 - categorical_accuracy: 0.7816 - val_loss: 0.8089 - val_categorical_accuracy: 0.6000\n",
      "Epoch 68/100\n",
      "21/21 [==============================] - 24s 1s/step - loss: 0.5787 - categorical_accuracy: 0.7816 - val_loss: 0.6490 - val_categorical_accuracy: 0.6600\n",
      "Epoch 69/100\n",
      "21/21 [==============================] - 24s 1s/step - loss: 0.5229 - categorical_accuracy: 0.7718 - val_loss: 0.8275 - val_categorical_accuracy: 0.5400\n",
      "Epoch 70/100\n",
      "21/21 [==============================] - 24s 1s/step - loss: 0.6235 - categorical_accuracy: 0.7670 - val_loss: 1.1661 - val_categorical_accuracy: 0.5000\n",
      "Epoch 71/100\n",
      "21/21 [==============================] - 24s 1s/step - loss: 0.5864 - categorical_accuracy: 0.7864 - val_loss: 0.8318 - val_categorical_accuracy: 0.6200\n",
      "Epoch 72/100\n",
      "21/21 [==============================] - 22s 1s/step - loss: 0.5219 - categorical_accuracy: 0.7816 - val_loss: 0.6596 - val_categorical_accuracy: 0.7000\n",
      "Epoch 73/100\n",
      "21/21 [==============================] - 22s 1s/step - loss: 0.5222 - categorical_accuracy: 0.7767 - val_loss: 0.4936 - val_categorical_accuracy: 0.7400\n",
      "Epoch 74/100\n",
      "21/21 [==============================] - 23s 1s/step - loss: 0.4852 - categorical_accuracy: 0.7864 - val_loss: 0.6031 - val_categorical_accuracy: 0.6400\n",
      "Epoch 75/100\n",
      "21/21 [==============================] - 22s 1s/step - loss: 0.4972 - categorical_accuracy: 0.7913 - val_loss: 0.6794 - val_categorical_accuracy: 0.6600\n",
      "Epoch 76/100\n",
      "21/21 [==============================] - 22s 1s/step - loss: 0.5455 - categorical_accuracy: 0.7670 - val_loss: 0.7325 - val_categorical_accuracy: 0.6400\n",
      "Epoch 77/100\n",
      "21/21 [==============================] - 23s 1s/step - loss: 0.5614 - categorical_accuracy: 0.7816 - val_loss: 0.7237 - val_categorical_accuracy: 0.6000\n",
      "Epoch 78/100\n",
      "21/21 [==============================] - 22s 1s/step - loss: 0.5199 - categorical_accuracy: 0.7767 - val_loss: 0.9359 - val_categorical_accuracy: 0.5800\n",
      "Epoch 79/100\n",
      "21/21 [==============================] - 23s 1s/step - loss: 0.4464 - categorical_accuracy: 0.8252 - val_loss: 0.5656 - val_categorical_accuracy: 0.8000\n",
      "Epoch 80/100\n",
      "21/21 [==============================] - 22s 1s/step - loss: 0.5245 - categorical_accuracy: 0.7573 - val_loss: 0.6461 - val_categorical_accuracy: 0.7200\n",
      "Epoch 81/100\n",
      "21/21 [==============================] - 22s 1s/step - loss: 0.4889 - categorical_accuracy: 0.8058 - val_loss: 0.7588 - val_categorical_accuracy: 0.6800\n",
      "Epoch 82/100\n",
      "21/21 [==============================] - 22s 1s/step - loss: 0.5178 - categorical_accuracy: 0.7816 - val_loss: 1.0087 - val_categorical_accuracy: 0.5800\n",
      "Epoch 83/100\n",
      "21/21 [==============================] - 23s 1s/step - loss: 0.4954 - categorical_accuracy: 0.8010 - val_loss: 0.6568 - val_categorical_accuracy: 0.6800\n",
      "Epoch 84/100\n",
      "21/21 [==============================] - 23s 1s/step - loss: 0.5498 - categorical_accuracy: 0.7427 - val_loss: 0.7551 - val_categorical_accuracy: 0.6400\n",
      "Epoch 85/100\n",
      "21/21 [==============================] - 25s 1s/step - loss: 0.5522 - categorical_accuracy: 0.7714 - val_loss: 0.7991 - val_categorical_accuracy: 0.7000\n",
      "Epoch 86/100\n",
      "21/21 [==============================] - 22s 1s/step - loss: 0.4860 - categorical_accuracy: 0.8010 - val_loss: 0.6807 - val_categorical_accuracy: 0.6400\n",
      "Epoch 87/100\n",
      "21/21 [==============================] - 22s 1s/step - loss: 0.4931 - categorical_accuracy: 0.7913 - val_loss: 0.5958 - val_categorical_accuracy: 0.7000\n",
      "Epoch 88/100\n",
      "21/21 [==============================] - 22s 1s/step - loss: 0.4536 - categorical_accuracy: 0.7864 - val_loss: 0.6693 - val_categorical_accuracy: 0.6800\n",
      "Epoch 89/100\n",
      "21/21 [==============================] - 22s 1s/step - loss: 0.4784 - categorical_accuracy: 0.7718 - val_loss: 0.7204 - val_categorical_accuracy: 0.6400\n",
      "Epoch 90/100\n",
      "21/21 [==============================] - 22s 1s/step - loss: 0.5036 - categorical_accuracy: 0.7816 - val_loss: 0.6846 - val_categorical_accuracy: 0.7000\n",
      "Epoch 91/100\n",
      "21/21 [==============================] - 23s 1s/step - loss: 0.4954 - categorical_accuracy: 0.8010 - val_loss: 0.7696 - val_categorical_accuracy: 0.7000\n",
      "Epoch 92/100\n",
      "21/21 [==============================] - 23s 1s/step - loss: 0.4716 - categorical_accuracy: 0.7913 - val_loss: 0.7560 - val_categorical_accuracy: 0.6600\n",
      "Epoch 93/100\n",
      "21/21 [==============================] - 23s 1s/step - loss: 0.5139 - categorical_accuracy: 0.7816 - val_loss: 0.7892 - val_categorical_accuracy: 0.6200\n",
      "Epoch 94/100\n",
      "21/21 [==============================] - 21s 985ms/step - loss: 0.5430 - categorical_accuracy: 0.7330 - val_loss: 0.7435 - val_categorical_accuracy: 0.7000\n",
      "Epoch 95/100\n",
      "21/21 [==============================] - 17s 828ms/step - loss: 0.5213 - categorical_accuracy: 0.8058 - val_loss: 0.7893 - val_categorical_accuracy: 0.7000\n",
      "Epoch 96/100\n",
      "21/21 [==============================] - 18s 858ms/step - loss: 0.5169 - categorical_accuracy: 0.7816 - val_loss: 0.7096 - val_categorical_accuracy: 0.7200\n",
      "Epoch 97/100\n",
      "21/21 [==============================] - 18s 842ms/step - loss: 0.4617 - categorical_accuracy: 0.8155 - val_loss: 0.6714 - val_categorical_accuracy: 0.6600\n",
      "Epoch 98/100\n",
      "21/21 [==============================] - 17s 837ms/step - loss: 0.4431 - categorical_accuracy: 0.7961 - val_loss: 0.5833 - val_categorical_accuracy: 0.6800\n",
      "Epoch 99/100\n"
     ]
    },
    {
     "name": "stdout",
     "output_type": "stream",
     "text": [
      "21/21 [==============================] - 18s 843ms/step - loss: 0.4890 - categorical_accuracy: 0.8058 - val_loss: 0.6186 - val_categorical_accuracy: 0.7400\n",
      "Epoch 100/100\n",
      "21/21 [==============================] - 18s 830ms/step - loss: 0.4250 - categorical_accuracy: 0.8301 - val_loss: 0.6431 - val_categorical_accuracy: 0.7000\n"
     ]
    }
   ],
   "source": [
    "#FIT MODEL\n",
    "print(len(train_batches))\n",
    "print(len(valid_batches))\n",
    "\n",
    "    \n",
    "STEP_SIZE_TRAIN=train_batches.n//train_batches.batch_size\n",
    "STEP_SIZE_VALID=valid_batches.n//valid_batches.batch_size\n",
    "\n",
    "\n",
    "\n",
    "res = model.fit(train_batches, epochs=NUM_EPOCHS, steps_per_epoch=STEP_SIZE_TRAIN, \\\n",
    "          validation_data=valid_batches, validation_steps=STEP_SIZE_VALID)"
   ]
  },
  {
   "cell_type": "markdown",
   "metadata": {
    "nbpresent": {
     "id": "66140980-2aa4-457f-b1df-74c10c234cc2"
    }
   },
   "source": [
    "#### [5 points] Plot Accuracy and Loss During Training"
   ]
  },
  {
   "cell_type": "code",
   "execution_count": 97,
   "metadata": {
    "nbpresent": {
     "id": "ff342098-784a-4e20-ac34-b74ca8ebe839"
    }
   },
   "outputs": [
    {
     "ename": "KeyError",
     "evalue": "'accuracy'",
     "output_type": "error",
     "traceback": [
      "\u001b[1;31m---------------------------------------------------------------------------\u001b[0m",
      "\u001b[1;31mKeyError\u001b[0m                                  Traceback (most recent call last)",
      "\u001b[1;32mC:\\Users\\RICHAR~1\\AppData\\Local\\Temp/ipykernel_10168/132741290.py\u001b[0m in \u001b[0;36m<module>\u001b[1;34m\u001b[0m\n\u001b[0;32m      4\u001b[0m \u001b[0mfig\u001b[0m\u001b[1;33m.\u001b[0m\u001b[0mset_figheight\u001b[0m\u001b[1;33m(\u001b[0m\u001b[1;36m6\u001b[0m\u001b[1;33m)\u001b[0m\u001b[1;33m\u001b[0m\u001b[1;33m\u001b[0m\u001b[0m\n\u001b[0;32m      5\u001b[0m \u001b[0mfig\u001b[0m\u001b[1;33m.\u001b[0m\u001b[0mset_figwidth\u001b[0m\u001b[1;33m(\u001b[0m\u001b[1;36m15\u001b[0m\u001b[1;33m)\u001b[0m\u001b[1;33m\u001b[0m\u001b[1;33m\u001b[0m\u001b[0m\n\u001b[1;32m----> 6\u001b[1;33m \u001b[0max1\u001b[0m\u001b[1;33m.\u001b[0m\u001b[0mplot\u001b[0m\u001b[1;33m(\u001b[0m\u001b[0mres\u001b[0m\u001b[1;33m.\u001b[0m\u001b[0mhistory\u001b[0m\u001b[1;33m[\u001b[0m\u001b[1;34m'accuracy'\u001b[0m\u001b[1;33m]\u001b[0m\u001b[1;33m)\u001b[0m\u001b[1;33m\u001b[0m\u001b[1;33m\u001b[0m\u001b[0m\n\u001b[0m\u001b[0;32m      7\u001b[0m \u001b[0max1\u001b[0m\u001b[1;33m.\u001b[0m\u001b[0mplot\u001b[0m\u001b[1;33m(\u001b[0m\u001b[0mres\u001b[0m\u001b[1;33m.\u001b[0m\u001b[0mhistory\u001b[0m\u001b[1;33m[\u001b[0m\u001b[1;34m'val_accuracy'\u001b[0m\u001b[1;33m]\u001b[0m\u001b[1;33m)\u001b[0m\u001b[1;33m\u001b[0m\u001b[1;33m\u001b[0m\u001b[0m\n\u001b[0;32m      8\u001b[0m \u001b[0max1\u001b[0m\u001b[1;33m.\u001b[0m\u001b[0mset_title\u001b[0m\u001b[1;33m(\u001b[0m\u001b[1;34m'Accuracy Over '\u001b[0m \u001b[1;33m+\u001b[0m \u001b[0mstr\u001b[0m\u001b[1;33m(\u001b[0m\u001b[0mNUM_EPOCHS\u001b[0m\u001b[1;33m)\u001b[0m \u001b[1;33m+\u001b[0m \u001b[1;34m' Epochs'\u001b[0m\u001b[1;33m)\u001b[0m\u001b[1;33m\u001b[0m\u001b[1;33m\u001b[0m\u001b[0m\n",
      "\u001b[1;31mKeyError\u001b[0m: 'accuracy'"
     ]
    },
    {
     "data": {
      "image/png": "[encoded data removed]",
      "text/plain": [
       "<Figure size 1080x432 with 2 Axes>"
      ]
     },
     "metadata": {
      "needs_background": "light"
     },
     "output_type": "display_data"
    }
   ],
   "source": [
    "import matplotlib.pyplot as plt\n",
    "\n",
    "fig, (ax1, ax2) = plt.subplots(1, 2)\n",
    "fig.set_figheight(6)\n",
    "fig.set_figwidth(15)\n",
    "ax1.plot(res.history['categorical_accuracy'])\n",
    "ax1.plot(res.history['val_categorical_accuracy'])\n",
    "ax1.set_title('Accuracy Over ' + str(NUM_EPOCHS) + ' Epochs')\n",
    "ax1.legend(['Train_acc', 'Test_acc'], loc='lower right')\n",
    "ax1.grid(True)\n",
    "ax2.set_title('Loss Over ' + str(NUM_EPOCHS) + ' Epochs')\n",
    "ax2.plot(res.history['loss'])\n",
    "ax2.plot(res.history['val_loss'])\n",
    "ax2.legend(['Train_loss', 'Test_loss'], loc='upper right')\n",
    "ax2.grid(True)\n",
    "plt.show()"
   ]
  },
  {
   "cell_type": "markdown",
   "metadata": {
    "nbpresent": {
     "id": "66140980-2aa4-457f-b1df-74c10c234cc2"
    }
   },
   "source": [
    "#### Testing Model"
   ]
  },
  {
   "cell_type": "code",
   "execution_count": 10,
   "metadata": {},
   "outputs": [
    {
     "name": "stdout",
     "output_type": "stream",
     "text": [
      "Found 36 images belonging to 4 classes.\n",
      "36\n",
      "WARNING:tensorflow:sample_weight modes were coerced from\n",
      "  ...\n",
      "    to  \n",
      "  ['...']\n",
      "36/36 [==============================] - 10s 274ms/step - loss: 0.7570 - acc: 0.6944\n",
      "Test loss: 0.757028494571235\n",
      "Test accuracy: 0.6944444\n"
     ]
    }
   ],
   "source": [
    "test_datagen = ImageDataGenerator(rescale=1. / 255)\n",
    "\n",
    "eval_generator = test_datagen.flow_from_directory(TEST_DIR,target_size=IMAGE_SIZE,\n",
    "                                                  batch_size=1,shuffle=True,seed=42,class_mode=\"categorical\")\n",
    "eval_generator.reset()\n",
    "print(len(eval_generator))\n",
    "x = model.evaluate_generator(eval_generator,steps = np.ceil(len(eval_generator)),\n",
    "                           use_multiprocessing = False,verbose = 1,workers=1)\n",
    "print('Test loss:' , x[0])\n",
    "print('Test accuracy:',x[1])"
   ]
  },
  {
   "cell_type": "markdown",
   "metadata": {
    "nbpresent": {
     "id": "66140980-2aa4-457f-b1df-74c10c234cc2"
    }
   },
   "source": [
    "## [10 points] TSNE Plot\n",
    "t-Distributed Stochastic Neighbor Embedding (t-SNE) is a widely used technique for dimensionality reduction that is particularly well suited for the visualization of high-dimensional datasets. After training is complete, extract features from a specific deep layer of your choice, use t-SNE to reduce the dimensionality of your extracted features to 2 dimensions and plot the resulting 2D features."
   ]
  },
  {
   "cell_type": "code",
   "execution_count": 15,
   "metadata": {},
   "outputs": [
    {
     "name": "stdout",
     "output_type": "stream",
     "text": [
      "Found 270 images belonging to 4 classes.\n",
      "{'covid': 0, 'normal': 1, 'pneumonia_bac': 2, 'pneumonia_vir': 3}\n",
      "Extracting features for 270 images.\n",
      "270/270 [==============================] - 71s 265ms/step\n",
      "Training TSNE model.\n"
     ]
    },
    {
     "data": {
      "image/png": "[encoded data removed]",
      "text/plain": [
       "<Figure size 432x288 with 1 Axes>"
      ]
     },
     "metadata": {
      "needs_background": "light"
     },
     "output_type": "display_data"
    }
   ],
   "source": [
    "from sklearn.manifold import TSNE\n",
    "\n",
    "intermediate_layer_model = models.Model(inputs=model.input,\n",
    "                                        outputs=model.get_layer('feature_dense').output)\n",
    "\n",
    "tsne_eval_generator = test_datagen.flow_from_directory(DATASET_PATH,target_size=IMAGE_SIZE,\n",
    "                                                  batch_size=1,shuffle=True,seed=42,class_mode=\"categorical\")\n",
    "\n",
    "raise NotImplementedError(\"Extract features from the tsne_data_generator and fit a t-SNE model for the features,\"\n",
    "                          \"and plot the resulting 2D features of the four classes.\")"
   ]
  },
  {
   "cell_type": "markdown",
   "metadata": {},
   "source": [
    "<!-- ## Task 2: COVID-19 vs Normal vs Tertiary Pneumonia (Bacterial and Viral) -->"
   ]
  },
  {
   "cell_type": "markdown",
   "metadata": {
    "nbpresent": {
     "id": "66140980-2aa4-457f-b1df-74c10c234cc2"
    }
   },
   "source": [
    "<!-- #### Renew Training Batch and Validation Batch -->"
   ]
  },
  {
   "cell_type": "markdown",
   "metadata": {
    "nbpresent": {
     "id": "66140980-2aa4-457f-b1df-74c10c234cc2"
    }
   },
   "source": [
    "<!-- #### Renew Model -->"
   ]
  }
 ],
 "metadata": {
  "kernelspec": {
   "display_name": "Python 3 (ipykernel)",
   "language": "python",
   "name": "python3"
  },
  "language_info": {
   "codemirror_mode": {
    "name": "ipython",
    "version": 3
   },
   "file_extension": ".py",
   "mimetype": "text/x-python",
   "name": "python",
   "nbconvert_exporter": "python",
   "pygments_lexer": "ipython3",
   "version": "3.8.12"
  },
  "latex_envs": {
   "LaTeX_envs_menu_present": true,
   "autoclose": false,
   "autocomplete": true,
   "bibliofile": "biblio.bib",
   "cite_by": "apalike",
   "current_citInitial": 1,
   "eqLabelWithNumbers": true,
   "eqNumInitial": 1,
   "hotkeys": {
    "equation": "Ctrl-E",
    "itemize": "Ctrl-I"
   },
   "labels_anchors": false,
   "latex_user_defs": false,
   "report_style_numbering": false,
   "user_envs_cfg": false
  },
  "toc": {
   "base_numbering": 1,
   "nav_menu": {},
   "number_sections": true,
   "sideBar": true,
   "skip_h1_title": false,
   "title_cell": "Table of Contents",
   "title_sidebar": "Contents",
   "toc_cell": false,
   "toc_position": {},
   "toc_section_display": true,
   "toc_window_display": false
  },
  "varInspector": {
   "cols": {
    "lenName": 16,
    "lenType": 16,
    "lenVar": 40
   },
   "kernels_config": {
    "python": {
     "delete_cmd_postfix": "",
     "delete_cmd_prefix": "del ",
     "library": "var_list.py",
     "varRefreshCmd": "print(var_dic_list())"
    },
    "r": {
     "delete_cmd_postfix": ") ",
     "delete_cmd_prefix": "rm(",
     "library": "var_list.r",
     "varRefreshCmd": "cat(var_dic_list()) "
    }
   },
   "types_to_exclude": [
    "module",
    "function",
    "builtin_function_or_method",
    "instance",
    "_Feature"
   ],
   "window_display": false
  }
 },
 "nbformat": 4,
 "nbformat_minor": 4
}
